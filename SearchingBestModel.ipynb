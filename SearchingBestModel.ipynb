{
 "cells": [
  {
   "cell_type": "code",
   "execution_count": 53,
   "id": "3047ffbd",
   "metadata": {
    "ExecuteTime": {
     "end_time": "2022-03-29T16:54:49.054335Z",
     "start_time": "2022-03-29T16:54:49.036059Z"
    }
   },
   "outputs": [],
   "source": [
    "import warnings\n",
    "warnings.filterwarnings(\"ignore\")\n",
    "\n",
    "import numpy as np\n",
    "import pandas as pd\n",
    "\n",
    "from sklearn.feature_extraction.text import CountVectorizer\n",
    "from sklearn.pipeline import Pipeline\n",
    "from sklearn.linear_model import LogisticRegression\n",
    "from sklearn.model_selection import cross_val_score, GridSearchCV"
   ]
  },
  {
   "cell_type": "code",
   "execution_count": 72,
   "id": "be7cb983",
   "metadata": {
    "ExecuteTime": {
     "end_time": "2022-03-29T17:08:17.475616Z",
     "start_time": "2022-03-29T17:08:17.318161Z"
    }
   },
   "outputs": [],
   "source": [
    "train_df = pd.read_csv('sentiment_df.csv')\n",
    "train_df.reset_index(drop=True)\n",
    "train_df = train_df.drop_duplicates(subset=['review'], keep=False)\n",
    "'''Датасет все еще немного несбалансированный, поэтому сбалансируем ручками'''\n",
    "neg_df = train_df.loc[train_df['mark'] == 0]\n",
    "pos_df = train_df.loc[train_df['mark'] == 1].sample(n=1500, random_state=42)  \n",
    "balanced_train_df = pd.concat((pos_df, neg_df))\n",
    "X_train, y_train = balanced_train_df['review'], balanced_train_df['mark']"
   ]
  },
  {
   "cell_type": "code",
   "execution_count": 73,
   "id": "ab6708e5",
   "metadata": {
    "ExecuteTime": {
     "end_time": "2022-03-29T17:08:25.245276Z",
     "start_time": "2022-03-29T17:08:17.572551Z"
    }
   },
   "outputs": [
    {
     "name": "stdout",
     "output_type": "stream",
     "text": [
      "(Count Bigram + Unigram Vectorizer + LR) mean score:  0.776962426105895\n"
     ]
    }
   ],
   "source": [
    "pipe_count_bigrams = Pipeline([('vectorizer', CountVectorizer(ngram_range=(1,2))),\n",
    "                            ('lr', LogisticRegression(n_jobs=-1))])\n",
    "cross_score_bigrams = cross_val_score(\n",
    "    pipe_count_bigrams, X_train, y_train, scoring='accuracy', cv=5, n_jobs=-1)\n",
    "print('(Count Bigram + Unigram Vectorizer + LR) mean score: ', cross_score_bigrams.mean())"
   ]
  },
  {
   "cell_type": "code",
   "execution_count": null,
   "id": "52271f36",
   "metadata": {
    "ExecuteTime": {
     "end_time": "2022-03-29T17:16:16.851237Z",
     "start_time": "2022-03-29T17:08:41.125196Z"
    }
   },
   "outputs": [],
   "source": [
    "parameters = {'vectorizer__min_df': [0, 0.05, 0.1, 0.2],\n",
    "              'vectorizer__max_df': [1, 0.95, 0.9],\n",
    "              'lr__penalty': ['l1', 'l2'],\n",
    "              'lr__C': [1, 0.9, 0.5, 0.05]\n",
    "              }\n",
    "grid = GridSearchCV(pipe_count_bigrams, parameters, cv=5, verbose=10)\n",
    "grid.fit(X_train, y_train)"
   ]
  },
  {
   "cell_type": "code",
   "execution_count": 75,
   "id": "453127fa",
   "metadata": {
    "ExecuteTime": {
     "end_time": "2022-03-29T17:16:41.738316Z",
     "start_time": "2022-03-29T17:16:37.744558Z"
    }
   },
   "outputs": [
    {
     "data": {
      "text/plain": [
       "0.776962426105895"
      ]
     },
     "execution_count": 75,
     "metadata": {},
     "output_type": "execute_result"
    }
   ],
   "source": [
    "cross_val_score(\n",
    "            grid.best_estimator_, X_train, y_train, scoring='accuracy', cv=5, n_jobs=-1).mean()"
   ]
  },
  {
   "cell_type": "code",
   "execution_count": 76,
   "id": "f82621bc",
   "metadata": {
    "ExecuteTime": {
     "end_time": "2022-03-29T17:17:53.506386Z",
     "start_time": "2022-03-29T17:17:49.221207Z"
    }
   },
   "outputs": [],
   "source": [
    "import pickle\n",
    "\n",
    "best_pipe = grid.best_estimator_\n",
    "best_pipe.fit(X_train, y_train)\n",
    "\n",
    "with open(\"model.pkl\", \"wb\") as f:\n",
    "    pickle.dump(best_pipe, f)  # Сохраним модель, чтобы в дальнейшем просто вызывать predict"
   ]
  }
 ],
 "metadata": {
  "kernelspec": {
   "display_name": "Python 3 (ipykernel)",
   "language": "python",
   "name": "python3"
  },
  "language_info": {
   "codemirror_mode": {
    "name": "ipython",
    "version": 3
   },
   "file_extension": ".py",
   "mimetype": "text/x-python",
   "name": "python",
   "nbconvert_exporter": "python",
   "pygments_lexer": "ipython3",
   "version": "3.9.7"
  },
  "toc": {
   "base_numbering": 1,
   "nav_menu": {},
   "number_sections": true,
   "sideBar": true,
   "skip_h1_title": false,
   "title_cell": "Table of Contents",
   "title_sidebar": "Contents",
   "toc_cell": false,
   "toc_position": {},
   "toc_section_display": true,
   "toc_window_display": false
  },
  "varInspector": {
   "cols": {
    "lenName": 16,
    "lenType": 16,
    "lenVar": 40
   },
   "kernels_config": {
    "python": {
     "delete_cmd_postfix": "",
     "delete_cmd_prefix": "del ",
     "library": "var_list.py",
     "varRefreshCmd": "print(var_dic_list())"
    },
    "r": {
     "delete_cmd_postfix": ") ",
     "delete_cmd_prefix": "rm(",
     "library": "var_list.r",
     "varRefreshCmd": "cat(var_dic_list()) "
    }
   },
   "types_to_exclude": [
    "module",
    "function",
    "builtin_function_or_method",
    "instance",
    "_Feature"
   ],
   "window_display": false
  }
 },
 "nbformat": 4,
 "nbformat_minor": 5
}
